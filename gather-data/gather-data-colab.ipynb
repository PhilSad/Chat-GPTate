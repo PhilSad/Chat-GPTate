{
  "cells": [
    {
      "cell_type": "code",
      "source": [
        "%cd /content\n",
        "!rm -rf Chat-GPTate"
      ],
      "metadata": {
        "colab": {
          "base_uri": "https://localhost:8080/"
        },
        "id": "iGCvl8jvqylx",
        "outputId": "e74caca3-6e1f-4d12-d982-354ee01c9d80"
      },
      "execution_count": 8,
      "outputs": [
        {
          "output_type": "stream",
          "name": "stdout",
          "text": [
            "/content\n"
          ]
        }
      ]
    },
    {
      "cell_type": "code",
      "source": [
        "!git clone https://github.com/PhilSad/Chat-GPTate\n",
        "%cd /content/Chat-GPTate/gather-data\n",
        "!pip install -r requirements.txt"
      ],
      "metadata": {
        "id": "WZyyHQcjnXaj"
      },
      "execution_count": null,
      "outputs": []
    },
    {
      "cell_type": "code",
      "source": [
        "from huggingface_hub import notebook_login\n",
        "notebook_login()"
      ],
      "metadata": {
        "id": "41SCJcizqrzy"
      },
      "execution_count": null,
      "outputs": []
    },
    {
      "cell_type": "markdown",
      "metadata": {
        "id": "Fd5_qq6dnUxV"
      },
      "source": [
        "open /content/Chat-GPTate/gather-data/cookies.txt"
      ]
    },
    {
      "cell_type": "code",
      "execution_count": null,
      "metadata": {
        "id": "nIlPyJOpnUxY"
      },
      "outputs": [],
      "source": [
        "NUM_SPEAKERS = 2\n",
        "MIN_SPEAKERS = 1\n",
        "MAX_SPEAKERS = 2\n",
        "!python transcribe_video.py https://www.youtube.com/watch?v=VGWGcESPltM --cookies ./cookies.txt --video_dir ./videos --transcription_dir ./transcriptions --model small --num_speaker {NUM_SPEAKERS} --min_speaker {MIN_SPEAKERS} --max_speaker {MAX_SPEAKERS}"
      ]
    }
  ],
  "metadata": {
    "language_info": {
      "name": "python"
    },
    "orig_nbformat": 4,
    "colab": {
      "provenance": []
    },
    "accelerator": "GPU",
    "gpuClass": "standard",
    "kernelspec": {
      "name": "python3",
      "display_name": "Python 3"
    }
  },
  "nbformat": 4,
  "nbformat_minor": 0
}