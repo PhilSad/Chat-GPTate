{
 "cells": [
  {
   "attachments": {},
   "cell_type": "markdown",
   "metadata": {},
   "source": [
    "open /content/Chat-GPTate/coockies.txt"
   ]
  },
  {
   "cell_type": "code",
   "execution_count": null,
   "metadata": {},
   "outputs": [],
   "source": [
    "%cd /content/Chat-GPTate/gather-data\n",
    "!python transcribe_video.py https://www.youtube.com/watch?v=dQw4w9WgXcQ \\\n",
    "    --cookies ./cookies.txt \\\n",
    "    --video_dir ./videos --transcription_dir ./transcriptions \\ \n",
    "    --model small --num_speaker 2"
   ]
  },
  {
   "cell_type": "code",
   "execution_count": null,
   "metadata": {},
   "outputs": [],
   "source": []
  }
 ],
 "metadata": {
  "language_info": {
   "name": "python"
  },
  "orig_nbformat": 4
 },
 "nbformat": 4,
 "nbformat_minor": 2
}
